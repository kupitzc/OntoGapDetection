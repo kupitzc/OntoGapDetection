{
 "cells": [
  {
   "cell_type": "code",
   "execution_count": 43,
   "metadata": {},
   "outputs": [],
   "source": [
    "import networkx\n",
    "\n",
    "#Create Graph\n",
    "def generateItemGraph(graphNumber):\n",
    "    itemGraph = networkx.MultiDiGraph()\n",
    "    itemGraph.add_node('Item' + str(graphNumber), value = '')\n",
    "    itemGraph.add_node('ItemName' + str(graphNumber), value = '')\n",
    "    itemGraph.add_node('ItemAffordance' + str(graphNumber), value = '')\n",
    "    itemGraph.add_node('ItemDescription' + str(graphNumber), value = '')\n",
    "    itemGraph.add_node('ItemRole' + str(graphNumber), value = '')\n",
    "\n",
    "    itemGraph.add_edge('Item' + str(graphNumber), 'ItemName' + str(graphNumber), value = 'ItemHasName')\n",
    "    itemGraph.add_edge('Item' + str(graphNumber), 'ItemAffordance' + str(graphNumber), value = 'ItemHasAffordance')\n",
    "    itemGraph.add_edge('Item' + str(graphNumber), 'ItemDescription' + str(graphNumber), value = 'ItemHasDescription')\n",
    "    itemGraph.add_edge('Item' + str(graphNumber), 'ItemRole' + str(graphNumber), value = 'ItemHasRole')\n",
    "\n",
    "    return itemGraph\n",
    "\n",
    "def generatePropGraph(graphNumber):\n",
    "    propGraph = networkx.MultiDiGraph()\n",
    "    propGraph.add_node('Property' + str(graphNumber), value = '')\n",
    "    propGraph.add_node('PropertyAdjective' + str(graphNumber), value = '')\n",
    "    propGraph.add_node('PropertySecondaryObject' + str(graphNumber), value = '')\n",
    "    propGraph.add_node('PropertyTertiaryObject' + str(graphNumber), value = '')\n",
    "    propGraph.add_node('PropertyDegree' + str(graphNumber), value = '')\n",
    "    propGraph.add_node('PropertyCompTarget' + str(graphNumber), value = '')\n",
    "\n",
    "    propGraph.add_edge('Property' + str(graphNumber), 'PropertyAdjective' + str(graphNumber), value = 'PropertyHasAdjective')\n",
    "    propGraph.add_edge('Property' + str(graphNumber), 'PropertySecondaryObject' + str(graphNumber), value = 'PropertyHasSecondaryObject')\n",
    "    propGraph.add_edge('Property' + str(graphNumber), 'PropertyTertiaryObject' + str(graphNumber), value = 'PropertyHasTertiaryObject')\n",
    "    propGraph.add_edge('Property' + str(graphNumber), 'PropertyDegree' + str(graphNumber), value = 'PropertyHasDegree')\n",
    "    propGraph.add_edge('Property' + str(graphNumber), 'PropertyCompTarget' + str(graphNumber), value = 'PropertyHasCompTarget')\n",
    "\n",
    "    return propGraph\n",
    "\n",
    "def generateActionGraph(graphNumber):\n",
    "    actionGraph = networkx.MultiDiGraph()\n",
    "    actionGraph.add_node('Action' + str(graphNumber), value = '')\n",
    "    actionGraph.add_node('ActionVerb' + str(graphNumber), value = '')\n",
    "    \n",
    "    actionGraph.add_edge('Action' + str(graphNumber), 'ActionVerb' + str(graphNumber), value = 'ActionHasVerb')\n",
    "    \n",
    "    return actionGraph\n",
    "\n",
    "def generateModPPGraph(graphNumber):\n",
    "    modPPGraph = networkx.MultiDiGraph()\n",
    "    modPPGraph.add_node('ModPP' + str(graphNumber), value = '')\n",
    "    modPPGraph.add_node('ModPPPrep' + str(graphNumber), value = '')\n",
    "    \n",
    "    modPPGraph.add_edge('ModPP' + str(graphNumber), 'ModPPPrep' + str(graphNumber), value = 'ModPPHasPrep')\n",
    "    \n",
    "    return modPPGraph"
   ]
  },
  {
   "cell_type": "code",
   "execution_count": 44,
   "metadata": {},
   "outputs": [],
   "source": [
    "class ItemGraph(object):\n",
    "    #Constructor\n",
    "    def __init__(self, graphNumber):\n",
    "        self.graphNumber = graphNumber\n",
    "        if(graphNumber != None):\n",
    "            self.graph = generateItemGraph(self.graphNumber)\n",
    "        else:\n",
    "            self.graph = None\n",
    "        \n",
    "    #Generic append method based on whatever target is passed in    \n",
    "    def __append(self, target, newValue):\n",
    "        currentValue = self.graph.nodes(data=True)[target + str(self.graphNumber)]['value']\n",
    "        if(currentValue == ''):\n",
    "            updatedValue = newValue\n",
    "        else:\n",
    "            updatedValue = currentValue + '|' + newValue\n",
    "        self.graph.nodes(data=True)[target + str(self.graphNumber)]['value'] = updatedValue\n",
    "    \n",
    "    #Generic replace method based on whatever target is passed in\n",
    "    def __replace(self, target, newValue):\n",
    "        self.graph.nodes(data=True)[target + str(self.graphNumber)]['value'] = newValue\n",
    "\n",
    "    #Append/replace methods for each node value in Item Graph\n",
    "    def appendItemValue(self, newValue):\n",
    "        self.__append('Item', newValue)\n",
    "        \n",
    "    def replaceItemValue(self, newValue):\n",
    "        self.__replace('Item', newValue)\n",
    "                \n",
    "    def appendItemName(self, newName):\n",
    "        self.__append('ItemName', newName)\n",
    "        \n",
    "    def replaceItemName(self, newName):\n",
    "        self.__replace('ItemName', newName)\n",
    "        \n",
    "    def appendItemAffordance(self, newAffordance):\n",
    "        self.__append('ItemAffordance', newAffordance)\n",
    "    \n",
    "    def replaceItemAffordance(self, newAffordance):\n",
    "        self.__replace('ItemAffordance', newAffordance)\n",
    "    \n",
    "    def appendItemDescription(self, newDescription):\n",
    "        self.__append('ItemDescription', newDescription)\n",
    "    \n",
    "    def replaceItemDescription(self, newDescription):\n",
    "        self.__replace('ItemDescription', newDescription)\n",
    "    \n",
    "    def appendItemRole(self, newRole):\n",
    "        self.__append('ItemRole', newRole)\n",
    "    \n",
    "    def replaceItemRole(self, newRole):\n",
    "        self.__replace('ItemRole', newRole)\n",
    "    \n",
    "    #Method to get the type of graph    \n",
    "    #def getTypeOfNode(self, node):\n",
    "    #    print(node)\n",
    "    #    print(self.graph.nodes[node])\n",
    "    #    return self.graph.nodes[node]['value']\n",
    "        \n",
    "    #Method to find a node containing a given value\n",
    "    def FindItemWithValue(self, valueToFind):\n",
    "        if(self.graph != None):\n",
    "            #iterate through all graph nodes\n",
    "            for node, values in self.graph.nodes.data():\n",
    "                #If the current Node's value = the value passed in\n",
    "                if(values['value'] == valueToFind):\n",
    "                    return node\n",
    "        return None\n",
    "    \n",
    "    #Methods to add different types of edges between nodes\n",
    "    def addGroupMembershipEdges(self, groupNode, memberNode):\n",
    "        self.graph.add_edge(memberNode, groupNode, value='IsMemberOf')\n",
    "        self.graph.add_edge(groupNode, memberNode, value='HasMember')\n",
    "        \n",
    "    def addNodeEquivalencyEdges(self, firstNode, secondNode):\n",
    "        self.graph.add_edge(firstNode, secondNode, value='IsEquivalentTo')\n",
    "        self.graph.add_edge(secondNode, firstNode, value='IsEquivalentTo')\n",
    "        \n",
    "    def addCompositionEdges(self, composedNode, partOfNode):\n",
    "        self.graph.add_edge(composedNode, partOfNode, value='HasA')\n",
    "        self.graph.add_edge(partOfNode, composedNode, value='IsPartOf')\n",
    "          \n",
    "    def addPropertyEdge(self, objectNode, propertyNode):\n",
    "        self.graph.add_edge(objectNode, propertyNode, value='Is')\n",
    "    \n",
    "   #Methods to add different types of edges between nodes\n",
    "    def addActionPerformerEdges(self, performerNode, actionNode):\n",
    "        self.graph.add_edge(performerNode, actionNode, value='Performs')\n",
    "        self.graph.add_edge(actionNode, performerNode, value='IsPerformedBy')\n",
    "        \n",
    "    def addActionTargetEdges(self, actionNode, targetNode):\n",
    "        self.graph.add_edge(actionNode, targetNode, value='HasTarget')\n",
    "        self.graph.add_edge(targetNode, actionNode, value='IsTargetOf')\n",
    "        \n",
    "    def addModifierVerbEdges(self, modifierNode, verbNode):\n",
    "        self.graph.add_edge(modifierNode, verbNode, value='ModifiesVerb')\n",
    "        self.graph.add_edge(verbNode, modifierNode, value='isModifiedBy')\n",
    "        \n",
    "    def addModifierObjectEdges(self, modifierNode, objectNode):\n",
    "        self.graph.add_edge(modifierNode, objectNode, value='modifiesObject')\n",
    "        self.graph.add_edge(objectNode, modifierNode, value='isModifiedBy')\n",
    "        \n",
    "    #Methods to replace values of specific nodes\n",
    "    def ReplaceItemAffordanceAtSpecificNode(self, nodeToAddAffordance, newAffordance):\n",
    "        node = self.FindItemWithValue(nodeToAddAffordance)\n",
    "        if(node != None):\n",
    "            edgesFromNode = self.graph.edges(node, data=True)\n",
    "            for startNode, endNode, edgeValues in edgesFromNode:\n",
    "                #If an edge has the value ItemHasName, then we want to modify the end node\n",
    "                if(edgeValues['value'] == 'ItemHasAffordance'):\n",
    "                    #Update graph with name\n",
    "                    self.graph.nodes(data=True)[endNode]['value'] = newAffordance\n",
    "                    return True\n",
    "        else:\n",
    "            print(\"No node with direct object reference as value found\")\n",
    "            return False\n",
    "        \n",
    "    #Methods to replace values of specific nodes\n",
    "    def AppendItemAffordanceAtSpecificNode(self, nodeToAddAffordance, newAffordance):\n",
    "        node = self.FindItemWithValue(nodeToAddAffordance)\n",
    "        if(node != None):\n",
    "            edgesFromNode = self.graph.edges(node, data=True)\n",
    "            for startNode, endNode, edgeValues in edgesFromNode:\n",
    "                #If an edge has the value ItemHasName, then we want to modify the end node\n",
    "                if(edgeValues['value'] == 'ItemHasAffordance'):\n",
    "                    #Update graph with name\n",
    "                    currentValue = self.graph.nodes(data=True)[endNode]['value']\n",
    "                    if(currentValue == ''):\n",
    "                        updatedValue = newAffordance\n",
    "                    else:\n",
    "                        updatedValue = currentValue + '|' + newAffordance\n",
    "                    self.graph.nodes(data=True)[endNode]['value'] = updatedValue\n",
    "                    return True\n",
    "        else:\n",
    "            print(\"No node with direct object reference as value found\")\n",
    "            return False\n",
    "\n",
    "\n",
    "    def ReplaceItemNameAtSpecificNode(self, nodeToAddName, newName):\n",
    "        #Find Node\n",
    "        node = self.FindItemWithValue(nodeToAddName)\n",
    "        if(node != None):\n",
    "            #Get list of edges from the node\n",
    "            edgesFromNode = self.graph.edges(node, data=True)\n",
    "            for startNode, endNode, edgeValues in edgesFromNode:\n",
    "                #If an edge has the value ItemHasName, then we want to modify the end node\n",
    "                if(edgeValues['value'] == 'ItemHasName'):\n",
    "                    #Update graph with name\n",
    "                    self.graph.nodes(data=True)[endNode]['value'] = newName\n",
    "                    return True\n",
    "        else:\n",
    "            print(\"No node with direct object reference as value found\")\n",
    "            return False"
   ]
  },
  {
   "cell_type": "code",
   "execution_count": 45,
   "metadata": {},
   "outputs": [],
   "source": [
    "class PropertyGraph(object):\n",
    "    #Constructor\n",
    "    def __init__(self, graphNumber):\n",
    "        self.graphNumber = graphNumber\n",
    "        if(graphNumber != None):\n",
    "            self.graph = generatePropGraph(self.graphNumber)\n",
    "        else:\n",
    "            self.graph = None\n",
    "        \n",
    "    #Generic append method based on whatever target is passed in    \n",
    "    def __append(self, target, newValue):\n",
    "        currentValue = self.graph.nodes(data=True)[target + str(self.graphNumber)]['value']\n",
    "        if(currentValue == ''):\n",
    "            updatedValue = newValue\n",
    "        else:\n",
    "            updatedValue = currentValue + '|' + newValue\n",
    "        self.graph.nodes(data=True)[target + str(self.graphNumber)]['value'] = updatedValue\n",
    "    \n",
    "    #Generic replace method based on whatever target is passed in\n",
    "    def __replace(self, target, newValue):\n",
    "        self.graph.nodes(data=True)[target + str(self.graphNumber)]['value'] = newValue\n",
    "\n",
    "    #Append/replace methods for each node value in Property Graph\n",
    "    def appendPropValue(self, newValue):\n",
    "        self.__append('Property', newValue)\n",
    "        \n",
    "    def replacePropValue(self, newValue):\n",
    "        self.__replace('Property', newValue)\n",
    "                \n",
    "    def appendPropAdj(self, newAdjective):\n",
    "        self.__append('PropertyAdjective', newAdjective)\n",
    "        \n",
    "    def replacePropAdj(self, newValue):\n",
    "        self.__replace('PropertyAdjective', newAdjective)\n",
    "        \n",
    "    def appendPropSecObj(self, newSecondaryObject):\n",
    "        self.__append('PropertySecondaryObject', newSecondaryObject)\n",
    "        \n",
    "    def replacePropSecObj(self, newSecondaryObject):\n",
    "        self.__replace('PropertySecondaryObject', newSecondaryObject)\n",
    "        \n",
    "    def appendPropTertObj(self, newTertiaryObject):\n",
    "        self.__append('PropertyTertiaryObject', newTertiaryObject)\n",
    "        \n",
    "    def replacePropTertObj(self, newTertiaryObject):\n",
    "        self.__replace('PropertyTertiaryObject', newTertiaryObject)\n",
    "        \n",
    "    def appendPropDegree(self, newDegree):\n",
    "        self.__append('PropertyDegree', newDegree)\n",
    "        \n",
    "    def replacePropDegree(self, newDegree):\n",
    "        self.__replace('PropertyDegree', newDegree)\n",
    "        \n",
    "    def appendPropCompTarget(self, newCompTarget):\n",
    "        self.__append('PropertyCompTarget', newCompTarget)\n",
    "        \n",
    "    def replacePropCompTarget(self, newCompTarget):\n",
    "        self.__replace('PropertyCompTarget', newCompTarget)\n",
    "            \n",
    "    #Method to get the type of graph    \n",
    "    ##def getTypeOfNode(self, node):\n",
    "    #    return self.graph.nodes[node]['value']\n",
    "    \n",
    "    #Method to find a node containing a given value\n",
    "    def FindPropertyWithValue(self, valueToFind):\n",
    "        if(self.graph != None):\n",
    "            #iterate through all graph nodes\n",
    "            for node, values in self.graph.nodes.data():\n",
    "                #If the current Node's value = the value passed in\n",
    "                if(values['value'] == valueToFind):\n",
    "                    return node\n",
    "        return None"
   ]
  },
  {
   "cell_type": "code",
   "execution_count": 46,
   "metadata": {},
   "outputs": [],
   "source": [
    "class ActionGraph(object):\n",
    "    #Constructor\n",
    "    def __init__(self, graphNumber):\n",
    "        self.graphNumber = graphNumber\n",
    "        if(graphNumber != None):\n",
    "            self.graph = generateActionGraph(self.graphNumber)\n",
    "        else:\n",
    "            self.graph = None\n",
    "        \n",
    "    #Generic append method based on whatever target is passed in    \n",
    "    def __append(self, target, newValue):\n",
    "        currentValue = self.graph.nodes(data=True)[target + str(self.graphNumber)]['value']\n",
    "        if(currentValue == ''):\n",
    "            updatedValue = newValue\n",
    "        else:\n",
    "            updatedValue = currentValue + '|' + newValue\n",
    "        self.graph.nodes(data=True)[target + str(self.graphNumber)]['value'] = updatedValue\n",
    "    \n",
    "    #Generic replace method based on whatever target is passed in\n",
    "    def __replace(self, target, newValue):\n",
    "        self.graph.nodes(data=True)[target + str(self.graphNumber)]['value'] = newValue\n",
    "\n",
    "    #Append/replace methods for each node value in Property Graph\n",
    "    def appendActionValue(self, newValue):\n",
    "        self.__append('Action', newValue)\n",
    "        \n",
    "    def replaceActionValue(self, newValue):\n",
    "        self.__replace('Action', newValue)\n",
    "                \n",
    "    def appendActionVerb(self, newVerb):\n",
    "        self.__append('ActionVerb', newVerb)\n",
    "        \n",
    "    def replaceActionVerb(self, newValue):\n",
    "        self.__replace('ActionVerb', newVerb)\n",
    "        \n",
    "    #Method to get the type of graph    \n",
    "    ##def getTypeOfNode(self, node):\n",
    "    #    return self.graph.nodes[node]['value']\n",
    "    \n",
    "    #Method to find a node containing a given value\n",
    "    def FindActionWithValue(self, valueToFind):\n",
    "        if(self.graph != None):\n",
    "            #iterate through all graph nodes\n",
    "            for node, values in self.graph.nodes.data():\n",
    "                #If the current Node's value = the value passed in\n",
    "                if(values['value'] == valueToFind):\n",
    "                    return node\n",
    "        return None"
   ]
  },
  {
   "cell_type": "code",
   "execution_count": 47,
   "metadata": {},
   "outputs": [],
   "source": [
    "#Modifier_PP (adv will need a different graph)\n",
    "class ModifierPPGraph(object):\n",
    "    #Constructor\n",
    "    def __init__(self, graphNumber):\n",
    "        self.graphNumber = graphNumber\n",
    "        if(graphNumber != None):\n",
    "            self.graph = generateModPPGraph(self.graphNumber)\n",
    "        else:\n",
    "            self.graph = None\n",
    "        \n",
    "    #Generic append method based on whatever target is passed in    \n",
    "    def __append(self, target, newValue):\n",
    "        currentValue = self.graph.nodes(data=True)[target + str(self.graphNumber)]['value']\n",
    "        if(currentValue == ''):\n",
    "            updatedValue = newValue\n",
    "        else:\n",
    "            updatedValue = currentValue + '|' + newValue\n",
    "        self.graph.nodes(data=True)[target + str(self.graphNumber)]['value'] = updatedValue\n",
    "    \n",
    "    #Generic replace method based on whatever target is passed in\n",
    "    def __replace(self, target, newValue):\n",
    "        self.graph.nodes(data=True)[target + str(self.graphNumber)]['value'] = newValue\n",
    "\n",
    "    #Append/replace methods for each node value in Property Graph\n",
    "    def appendModPPValue(self, newValue):\n",
    "        self.__append('ModPP', newValue)\n",
    "        \n",
    "    def replaceModPPValue(self, newValue):\n",
    "        self.__replace('ModPP', newValue)\n",
    "                \n",
    "    def appendModPPPrep(self, newPreposition):\n",
    "        self.__append('ModPPPrep', newPreposition)\n",
    "        \n",
    "    def replaceModPPPrep(self, newPreposition):\n",
    "        self.__replace('ModPPPrep', newPreposition)\n",
    "    \n",
    "    #Method to get the type of graph    \n",
    "    ##def getTypeOfNode(self, node):\n",
    "    #    return self.graph.nodes[node]['value']\n",
    "    \n",
    "    #Method to find a node containing a given value\n",
    "    def FindModWithValue(self, valueToFind):\n",
    "        if(self.graph != None):\n",
    "            #iterate through all graph nodes\n",
    "            for node, values in self.graph.nodes.data():\n",
    "                #If the current Node's value = the value passed in\n",
    "                if(values['value'] == valueToFind):\n",
    "                    return node\n",
    "        return None"
   ]
  },
  {
   "cell_type": "code",
   "execution_count": 48,
   "metadata": {},
   "outputs": [],
   "source": [
    "class predicateSwitcher(object):\n",
    "    \n",
    "    def __init__(self):\n",
    "        self.graphNumber = 0\n",
    "        self.DRSGraph = ItemGraph(None)\n",
    "        \n",
    "    #Method to call the appropriate function based on the argument passed in\n",
    "    def callFunction(self, predicateType, predicateContents):\n",
    "        #Get the name of the method\n",
    "        methodName = 'predicate_' + str(predicateType)\n",
    "        #Get the method itself\n",
    "        method = getattr(self, methodName, lambda: \"Unknown predicate\")\n",
    "        #Call the method and return its output\n",
    "        method(predicateContents)\n",
    "        return self.DRSGraph\n",
    "        \n",
    "    #For object() predicates\n",
    "    #SHOULD CHECK IF OBJECT WITH GIVEN NAME ALREADY EXISTS!!!  IF SO, FIGURE OUT WHAT ARE THE CONDITIONS FOR THAT TO OCCUR\n",
    "    def predicate_object(self, predicateContents):\n",
    "        print(predicateContents)\n",
    "        #Break up elements of object line into variables\n",
    "        predicateComponents = predicateContents.split(',')\n",
    "        objReferenceVariable = predicateComponents[0]\n",
    "        objName = predicateComponents[1]\n",
    "        objClass = predicateComponents[2]\n",
    "        objUnit = predicateComponents[3]\n",
    "        objOperator = predicateComponents[4]\n",
    "        objCount = predicateComponents[5].split(')')[0]\n",
    "        if(self.DRSGraph.FindItemWithValue(objReferenceVariable) == None):\n",
    "            #Apply appropriate variables to ItemGraph\n",
    "            objectGraph = ItemGraph(self.graphNumber)\n",
    "            objectGraph.appendItemValue(objReferenceVariable)\n",
    "            objectGraph.appendItemRole(objName)\n",
    "            #Increase the graph number for auto-generation of names\n",
    "            self.graphNumber = self.graphNumber + 1\n",
    "            #If a main graph already exists, then add the new graph in to it\n",
    "            if(self.DRSGraph.graph != None):\n",
    "                #DRSGraph.graph = networkx.algorithms.operators.binary.union(DRSGraph.graph, objectGraph.graph)\n",
    "                self.DRSGraph.graph = networkx.algorithms.operators.binary.compose(self.DRSGraph.graph, objectGraph.graph)\n",
    "            #if no main graph exists, this is the main graph\n",
    "            else:\n",
    "                self.DRSGraph.graph = objectGraph.graph\n",
    "            return True\n",
    "        else:\n",
    "            return False\n",
    "    \n",
    "    #For predicate() predicates\n",
    "    #HOW TO HANDLE SENTENCE SUB-ORDINATION?\n",
    "    def predicate_predicate(self, predicateContents):\n",
    "        #Intransitive verbs: (predName, verb, subjectRef) \n",
    "        #- The SubjectRef Verbed (the man laughed, the target appears)\n",
    "        #Transitive verbs: (predName, verb, subjectRef, dirObjRef)\n",
    "        #- The Subjectref Verbed the dirObjRef (the task A has a group of objects H, the subject L remembers the letter I)\n",
    "        #Ditransitive verbs: (predName, verb, subjRef, dirObjRef, indirObjRef)\n",
    "        #- The SubjectRef verbed the DirObjRef to the indirObjRef (The professor (S) gave the paper (D) to the student (I))\n",
    "        #Break up the predicate\n",
    "        predicateComponents = predicateContents.split(',')\n",
    "        numberOfComponents = len(predicateComponents)\n",
    "        #Always have first three components, so only special cases are transitive/ditransitive\n",
    "        predReferenceVariable = predicateComponents[0]\n",
    "        predVerb = predicateComponents[1]\n",
    "        predSubjRef = predicateComponents[2]\n",
    "        #Different cases (differing number of components)\n",
    "        if(numberOfComponents == 3):\n",
    "            #intransitive\n",
    "            predSubjRef = predSubjRef.split(')')[0]\n",
    "        elif(numberOfComponents == 4):\n",
    "            #Transitive\n",
    "            predDirObjRef = predicateComponents[3].split(')')[0]\n",
    "        elif(numberOfComponents == 5):\n",
    "            #Ditransitive\n",
    "            predIndirObjRef = predicateComponents[4].split(')')[0]\n",
    "        else:\n",
    "            #invalid\n",
    "            raise ValueError('Too many components ?')\n",
    "        #Hardcode be case for specific scenarios\n",
    "        \n",
    "        if(predVerb == 'be'):\n",
    "            #Check if naming or setting an equivalency\n",
    "            if('named' in predSubjRef):\n",
    "                #If so call naming method\n",
    "                self.DRSGraph = nameItem(predSubjRef, predDirObjRef, self.DRSGraph)\n",
    "            #If not named(XYZ) but still has 4 components\n",
    "            elif(numberOfComponents == 4):\n",
    "                #Get nodes for both subject and direct object\n",
    "                subjRefNode = self.DRSGraph.FindItemWithValue(predSubjRef)\n",
    "                dirObjRefNode = self.DRSGraph.FindItemWithValue(predDirObjRef)\n",
    "                #If both are ITEM nodes in the graph, then the \"Be\" is setting an equivalency\n",
    "                if(subjRefNode != None and dirObjRefNode != None and 'Item' in dirObjRefNode):\n",
    "                    self.DRSGraph.addNodeEquivalencyEdges(subjRefNode, dirObjRefNode)\n",
    "                #If the target node is a PROPERTY node, then the 'BE' is setting an \"is\" property relationship\n",
    "                elif(subjRefNode != None and dirObjRefNode != None and 'Property' in dirObjRefNode):\n",
    "                    self.DRSGraph.addPropertyEdge(subjRefNode, dirObjRefNode)\n",
    "            #HANDLE ANY OTHER CASES????\n",
    "            \n",
    "        #Hardcode \"have\" case for composition\n",
    "        elif(predVerb == 'have'):\n",
    "            if(numberOfComponents == 4):\n",
    "                #Get nodes for both subject and direct object\n",
    "                subjRefNode = self.DRSGraph.FindItemWithValue(predSubjRef)\n",
    "                dirObjRefNode = self.DRSGraph.FindItemWithValue(predDirObjRef)\n",
    "                #If both are nodes in the graph, then the \"have\" is setting a composition\n",
    "                if(subjRefNode != None and dirObjRefNode != None):\n",
    "                    self.DRSGraph.addCompositionEdges(subjRefNode, dirObjRefNode)\n",
    "        else:\n",
    "            #Create Action Node\n",
    "            self.DRSGraph.AppendItemAffordanceAtSpecificNode(predSubjRef, predVerb)\n",
    "            actionGraph = ActionGraph(self.graphNumber)\n",
    "            actionGraph.appendActionValue(predReferenceVariable)\n",
    "            actionGraph.appendActionVerb(predVerb)\n",
    "            #Increase the graph number for auto-generation of names\n",
    "            self.graphNumber = self.graphNumber + 1\n",
    "            #If a main graph already exists, then add the new graph in to it\n",
    "            if(self.DRSGraph.graph != None):\n",
    "                self.DRSGraph.graph = networkx.algorithms.operators.binary.compose(self.DRSGraph.graph, actionGraph.graph)\n",
    "            #if no main graph exists, this is the main graph\n",
    "            else:\n",
    "                self.DRSGraph.graph = actionGraph.graph\n",
    "            \n",
    "            #Get subject reference node\n",
    "            subjRefNode = self.DRSGraph.FindItemWithValue(predSubjRef)\n",
    "            actionNode = self.DRSGraph.FindItemWithValue(predReferenceVariable)\n",
    "            \n",
    "            #If just one subject \"The target appears\"\n",
    "            if(numberOfComponents == 3):\n",
    "                #self.DRSGraph.AppendItemAffordanceAtSpecificNode(predSubjRef, predVerb)\n",
    "                self.DRSGraph.addActionPerformerEdges(subjRefNode, actionNode)\n",
    "            #If subject and direct object (e.g. \"The subject remembers the letter\")\n",
    "            #predSubjRef = \"Subject\", predDirObjRef = \"letter\"\n",
    "            elif(numberOfComponents == 4):\n",
    "                dirObjRefNode = self.DRSGraph.FindItemWithValue(predDirObjRef)\n",
    "                self.DRSGraph.addActionPerformerEdges(subjRefNode, actionNode)\n",
    "                self.DRSGraph.addActionTargetEdges(actionNode, dirObjRefNode)\n",
    "                \n",
    "            #TODO TODO TODO TODO\n",
    "            elif(numberOfComponents == 5):\n",
    "                pass\n",
    "    \n",
    "    #For has_part() predicates\n",
    "    def predicate_has_part(self, predicateContents):\n",
    "        #Get predicate items\n",
    "        predicateComponents = predicateContents.split(',')\n",
    "        predGroupRef = predicateComponents[0]\n",
    "        predGroupMember = predicateComponents[1].split(')')[0]\n",
    "        #Hardcode the new object as being a group\n",
    "        predGroupDescription = 'GROUP'\n",
    "        #if Group reference doesn't exist\n",
    "        groupNode = self.DRSGraph.FindItemWithValue(predGroupRef)\n",
    "        memberNode = self.DRSGraph.FindItemWithValue(predGroupMember)\n",
    "        if(groupNode == None):\n",
    "             #Then create that item\n",
    "             #Apply appropriate variables to ItemGraph\n",
    "            groupGraph = ItemGraph(self.graphNumber)\n",
    "            groupGraph.appendItemValue(predGroupRef)\n",
    "            groupGraph.appendItemRole(predGroupDescription)\n",
    "            #Get the node for the group\n",
    "            groupNode = groupGraph.FindItemWithValue(predGroupRef)\n",
    "            #Increase the graph number for auto-name generation\n",
    "            self.graphNumber = self.graphNumber + 1\n",
    "            #Compose the new graph with the existing graph \n",
    "            #(no scenario of no existing graph because can't start with has_part())\n",
    "            self.DRSGraph.graph = networkx.algorithms.operators.binary.compose(self.DRSGraph.graph, groupGraph.graph)\n",
    "        #Add membership edges\n",
    "        self.DRSGraph.addGroupMembershipEdges(groupNode, memberNode)\n",
    "    \n",
    "    #HANDLE MODIFIERS - PREPOSITION\n",
    "    #TODO TODO TODO TODO\n",
    "    def predicate_modifier_pp(self, predicateContents):\n",
    "        #Find action node of predicate\n",
    "        #Get predicate items\n",
    "        predicateComponents = predicateContents.split(',')\n",
    "        modPPRefID = predicateComponents[0] + 'mod'\n",
    "        modPPPrep = predicateComponents[1]\n",
    "        modPPModifiedVerb = predicateComponents[0]\n",
    "        modPPTargetObj = predicateComponents[2].split(')')[0]\n",
    "        \n",
    "        #Create Modifier Node\n",
    "        modGraph = ModifierPPGraph(self.graphNumber)\n",
    "        modGraph.appendModPPValue(modPPRefID)\n",
    "        modGraph.appendModPPPrep(modPPPrep)\n",
    "        \n",
    "        #Increase the graph number for auto-generation of names\n",
    "        self.graphNumber = self.graphNumber + 1\n",
    "        \n",
    "        #If a main graph already exists, then add the new graph in to it\n",
    "        if(self.DRSGraph.graph != None):\n",
    "            self.DRSGraph.graph = networkx.algorithms.operators.binary.compose(self.DRSGraph.graph, modGraph.graph)\n",
    "        #if no main graph exists, this is the main graph\n",
    "        else:\n",
    "            self.DRSGraph.graph = modGraph.graph\n",
    "            \n",
    "        #Add verb and object modifier edges\n",
    "        modNode = self.DRSGraph.FindItemWithValue(modPPRefID)\n",
    "        verbNode = self.DRSGraph.FindItemWithValue(modPPModifiedVerb)\n",
    "        objectNode = self.DRSGraph.FindItemWithValue(modPPTargetObj)\n",
    "        self.DRSGraph.addModifierVerbEdges(modNode, verbNode)\n",
    "        self.DRSGraph.addModifierObjectEdges(modNode, objectNode)\n",
    "            \n",
    "    #HANDLE MODIFIERS - ADVERB\n",
    "    def predicate_modifier_adv(self, predicateContents):\n",
    "        pass\n",
    "    \n",
    "    #HANDLE PROPERTIES\n",
    "    #TODO: Handle 4/6 component properties\n",
    "    #TODO: Handle degrees besides \"pos\"\n",
    "    def predicate_property(self, predicateContents):\n",
    "        #Break up the predicate\n",
    "        predicateComponents = predicateContents.split(',')\n",
    "        numberOfComponents = len(predicateComponents)\n",
    "        #Always have first two components, others distributed based on number of components\n",
    "        propRefId = predicateComponents[0]\n",
    "        propAdjective = predicateComponents[1]\n",
    "        #Different cases (differing number of components)\n",
    "        if(numberOfComponents == 3):\n",
    "            #Only a primary object\n",
    "            propDegree = predicateComponents[2].split(')')[0]\n",
    "        elif(numberOfComponents == 4):\n",
    "            #Primary and secondary object\n",
    "            propDegree = predicateComponents[2]\n",
    "            propSecObj = predicateComponents[3].split(')')[0]\n",
    "        elif(numberOfComponents == 6):\n",
    "            #Primary, secondary, and tertiary objects\n",
    "            propSecObj = predicateComponents[2]\n",
    "            propDegree = predicateComponents[3]\n",
    "            propCompTarget = predicateComponents[4]\n",
    "            propTertObj = predicateComponents[5].split(')')[0]\n",
    "        else:\n",
    "            #invalid\n",
    "            raise ValueError('Too many components ?')\n",
    "            \n",
    "        if(self.DRSGraph.FindItemWithValue(propRefId) == None):\n",
    "            #Apply appropriate variables to PropertyGraph (operating off same graph number\n",
    "            #because the number in the name is irrelevant)\n",
    "            propGraph = PropertyGraph(self.graphNumber)\n",
    "            propGraph.appendPropValue(propRefId)\n",
    "            propGraph.appendPropAdj(propAdjective)\n",
    "            propGraph.appendPropDegree(propDegree)\n",
    "            #Increase the graph number for auto-generation of names\n",
    "            self.graphNumber = self.graphNumber + 1\n",
    "            #If a main graph already exists, then add the new graph in to it\n",
    "            if(self.DRSGraph.graph != None):\n",
    "                self.DRSGraph.graph = networkx.algorithms.operators.binary.compose(self.DRSGraph.graph, propGraph.graph)\n",
    "            #if no main graph exists, this is the main graph\n",
    "            else:\n",
    "                self.DRSGraph.graph = propGraph.graph\n",
    "            return True\n",
    "        else:\n",
    "            return False"
   ]
  },
  {
   "cell_type": "code",
   "execution_count": 156,
   "metadata": {},
   "outputs": [],
   "source": [
    "#VERY INITIAL VERSION, MOST CODE COPIED FROM PREDICATESWITCHER\n",
    "#Proof of concept class to test with single case: \"Is Psychomotor-Vigilance active?\"\n",
    "#CURRENTLY OPERATING UNDER ASSUMPTION THAT questions ALWAYS end with the predicate as the final piece.  This will 100% need revised (probably just check if \n",
    "#the current line is the final question line and then process the complete question at that point).\n",
    "class questionSwitcher(object):\n",
    "    \n",
    "    def __init__(self):\n",
    "        self.graphNumber = 0\n",
    "        self.DRSGraph = None\n",
    "        self.nodesWithGivenProperty = []\n",
    "        self.nodesWithGivenName = []\n",
    "        \n",
    "    #Method to call the appropriate function based on the argument passed in\n",
    "    def callFunction(self, predicateType, predicateContents, DRSGraph):\n",
    "        #Get the name of the method\n",
    "        methodName = 'question_' + str(predicateType)\n",
    "        #Get the method itself\n",
    "        method = getattr(self, methodName, lambda: \"Unknown predicate\")\n",
    "        #Call the method and return its output\n",
    "        self.DRSGraph = DRSGraph\n",
    "        method(predicateContents)\n",
    "        \n",
    "    #HANDLE PROPERTIES\n",
    "    #TODO: Handle 4/6 component properties\n",
    "    #TODO: Handle degrees besides \"pos\"\n",
    "    def question_property(self, predicateContents):\n",
    "        #Break up the predicate\n",
    "        predicateComponents = predicateContents.split(',')\n",
    "        numberOfComponents = len(predicateComponents)\n",
    "        #Always have first two components, others distributed based on number of components\n",
    "        propRefId = predicateComponents[0]\n",
    "        propAdjective = predicateComponents[1]\n",
    "        #Different cases (differing number of components)\n",
    "        if(numberOfComponents == 3):\n",
    "            #Only a primary object\n",
    "            propDegree = predicateComponents[2].split(')')[0]\n",
    "        elif(numberOfComponents == 4):\n",
    "            #Primary and secondary object\n",
    "            propDegree = predicateComponents[2]\n",
    "            propSecObj = predicateComponents[3].split(')')[0]\n",
    "        elif(numberOfComponents == 6):\n",
    "            #Primary, secondary, and tertiary objects\n",
    "            propSecObj = predicateComponents[2]\n",
    "            propDegree = predicateComponents[3]\n",
    "            propCompTarget = predicateComponents[4]\n",
    "            propTertObj = predicateComponents[5].split(')')[0]\n",
    "        else:\n",
    "            #invalid\n",
    "            raise ValueError('Too many components ?')\n",
    "            \n",
    "        adjectiveNodes = self.ListOfNodesWithValue(propAdjective)\n",
    "        if(adjectiveNodes == None):\n",
    "            #No nodes \"active\"\n",
    "            pass\n",
    "        else:\n",
    "            propertyNodesWithAdjective = []\n",
    "            for node in adjectiveNodes:\n",
    "                #print(\"Node\", node)\n",
    "                propertyNode = self.getPropertyNodeFromAdjective(node)\n",
    "                #print(\"propertyNode\", propertyNode)\n",
    "                self.nodesWithGivenProperty.append(propertyNode)\n",
    "        \n",
    "        \n",
    "    #For predicate() predicates\n",
    "    #HOW TO HANDLE SENTENCE SUB-ORDINATION?\n",
    "    def question_predicate(self, predicateContents):\n",
    "        #Intransitive verbs: (predName, verb, subjectRef) \n",
    "        #- The SubjectRef Verbed (the man laughed, the target appears)\n",
    "        #Transitive verbs: (predName, verb, subjectRef, dirObjRef)\n",
    "        #- The Subjectref Verbed the dirObjRef (the task A has a group of objects H, the subject L remembers the letter I)\n",
    "        #Ditransitive verbs: (predName, verb, subjRef, dirObjRef, indirObjRef)\n",
    "        #- The SubjectRef verbed the DirObjRef to the indirObjRef (The professor (S) gave the paper (D) to the student (I))\n",
    "        #Break up the predicate\n",
    "        predicateComponents = predicateContents.split(',')\n",
    "        numberOfComponents = len(predicateComponents)\n",
    "        #Always have first three components, so only special cases are transitive/ditransitive\n",
    "        predReferenceVariable = predicateComponents[0]\n",
    "        predVerb = predicateComponents[1]\n",
    "        predSubjRef = predicateComponents[2]\n",
    "        #Different cases (differing number of components)\n",
    "        if(numberOfComponents == 3):\n",
    "            #intransitive\n",
    "            predSubjRef = predSubjRef.split(')')[0]\n",
    "        elif(numberOfComponents == 4):\n",
    "            #Transitive\n",
    "            predDirObjRef = predicateComponents[3].split(')')[0]\n",
    "        elif(numberOfComponents == 5):\n",
    "            #Ditransitive\n",
    "            predIndirObjRef = predicateComponents[4].split(')')[0]\n",
    "        else:\n",
    "            #invalid\n",
    "            raise ValueError('Too many components ?')\n",
    "        #Hardcode be case for specific scenarios\n",
    "        \n",
    "        if(predVerb == 'be'):\n",
    "            #Check if find a node containing said name\n",
    "            if('named' in predSubjRef):\n",
    "                #Get item name out of \"named(XYZ)\"\n",
    "                itemNodeList = []\n",
    "                itemName = predSubjRef[predSubjRef.find(\"(\")+1:predSubjRef.find(\")\")]\n",
    "                #print(itemName)\n",
    "                self.nodesWithGivenName = self.ListOfNodesWithValue(itemName)\n",
    "                #print(self.nodesWithGivenName)\n",
    "                #get list of item nodes which are connected to each of these names.\n",
    "                #print(nameNodeList)\n",
    "                #for node in nameNodeList:\n",
    "                #    itemNode = self.getItemNodeFromName(node)\n",
    "                #    self.nodesWithGivenName.append(itemNode)\n",
    "            \n",
    "    def resolveQuestion(self):\n",
    "        for node in self.nodesWithGivenName:\n",
    "            outEdgesFromNode = (self.DRSGraph.out_edges(node, data=True))\n",
    "            inEdgesFromNode = (self.DRSGraph.in_edges(node, data=True))\n",
    "            edgesFromNode = list(outEdgesFromNode) + list(inEdgesFromNode)\n",
    "            #print(edgesFromNode)\n",
    "            for startNode, endNode, edgeValues in edgesFromNode:\n",
    "                if(edgeValues['value'] == 'ItemHasName'):\n",
    "                    if(startNode != node):\n",
    "                        nodeToConnect = startNode\n",
    "                        #print(nodeToConnect)\n",
    "                    elif(endNode != node):\n",
    "                        nodeToConnect = endNode\n",
    "                        #print(nodeToConnect)\n",
    "        for node in self.nodesWithGivenProperty:\n",
    "            #print(node)\n",
    "            if(self.DRSGraph.has_edge(node, nodeToConnect)):\n",
    "                return True\n",
    "            if(self.DRSGraph.has_edge(nodeToConnect, node)):\n",
    "                return True\n",
    "        return False\n",
    "    \n",
    "    def ListOfNodesWithValue(self, valueToFind):\n",
    "        nodeList = []\n",
    "        if(self.DRSGraph != None):\n",
    "            #iterate through all graph nodes\n",
    "            for node, values in self.DRSGraph.nodes.data():\n",
    "                #If the current Node's value = the value passed in\n",
    "                if(values['value'] == valueToFind):\n",
    "                    nodeList.append(node)\n",
    "        return nodeList\n",
    "    \n",
    "    def getPropertyNodeFromAdjective(self, adjectiveNode):\n",
    "        #Get list of edges from the node\n",
    "        inEdgesFromNode = self.DRSGraph.in_edges(adjectiveNode, data=True)\n",
    "        outEdgesFromNode = self.DRSGraph.out_edges(adjectiveNode, data=True)\n",
    "        edgesFromNode = list(inEdgesFromNode) + list(outEdgesFromNode)\n",
    "        for startNode, endNode, edgeValues in edgesFromNode:\n",
    "            #If an edge has the value ItemHasName, then we want to modify the end node\n",
    "            if(edgeValues['value'] == 'PropertyHasAdjective'):\n",
    "                #Update graph with name\n",
    "                return startNode\n",
    "            \n",
    "    def getItemNodeFromName(self, nameNode):\n",
    "        #Get list of edges from the node\n",
    "        edgesFromNode = self.DRSGraph.edges(nameNode, data=True)\n",
    "        for startNode, endNode, edgeValues in edgesFromNode:\n",
    "            #If an edge has the value ItemHasName, then we want to modify the end node\n",
    "            if(edgeValues['value'] == 'ItemHasName'):\n",
    "                #Update graph with name\n",
    "                #print(startNode, endNode, edgeValues)\n",
    "                return startNode"
   ]
  },
  {
   "cell_type": "code",
   "execution_count": 98,
   "metadata": {},
   "outputs": [],
   "source": [
    "#CAN PROBABLY MAKE THE NAME CHANGE A CLASS FUNCTION ????  MAKE APPEND/REPLACE BE ABLE TO TAKE IN SPECIFIC TARGETS?\n",
    "def nameItem(predSubjRef, predDirObjRef, DRSGraph):\n",
    "    #Get item name out of \"named(XYZ)\"\n",
    "    itemName = predSubjRef[predSubjRef.find(\"(\")+1:predSubjRef.find(\")\")]\n",
    "    #Replace the name\n",
    "    DRSGraph.ReplaceItemNameAtSpecificNode(predDirObjRef, itemName)\n",
    "    #Return graph\n",
    "    return DRSGraph"
   ]
  },
  {
   "cell_type": "code",
   "execution_count": 52,
   "metadata": {},
   "outputs": [],
   "source": [
    "#Check if the current line is a predicate or not\n",
    "def isLinePredicate(inputDRS):\n",
    "    #Check if starts with bracket (header) or is arrow (conditional)\n",
    "    if(inputDRS[0] == '[' or inputDRS == '=>' or inputDRS == 'QUESTION'):\n",
    "        return False\n",
    "    else:\n",
    "        return True"
   ]
  },
  {
   "cell_type": "code",
   "execution_count": 53,
   "metadata": {},
   "outputs": [],
   "source": [
    "#Check if current line is a conditional or a header line\n",
    "def getSymbolLines(DRSLines):\n",
    "    #Declarations\n",
    "    symbolLines = {}\n",
    "    #Iterate through DRS commands\n",
    "    for index, line in enumerate(DRSLines):\n",
    "        #If line starts with bracket, it's a header\n",
    "        if(line[0] == '['):\n",
    "            symbolLines.update({index: \"header\"})\n",
    "        #if line is arrow, it's a conditional\n",
    "        elif(line == '=>'):\n",
    "            symbolLines.update({index: \"conditional\"})\n",
    "        #if line is \"QUESTION\" then it's the start of a question segement\n",
    "        elif(line == 'QUESTION'):\n",
    "            symbolLines.update({index: \"question\"})\n",
    "    return symbolLines"
   ]
  },
  {
   "cell_type": "code",
   "execution_count": 54,
   "metadata": {},
   "outputs": [],
   "source": [
    "#Get most recent symbol, symbol before that, and upcoming symbol\n",
    "def getSurroundingSymbols(lineIndex, symbolLines):\n",
    "    #Declarations\n",
    "    previousSymbol = 0\n",
    "    mostRecentSymbol = 0\n",
    "    upcomingSymbol = 0\n",
    "    #Edge cases: no values after, no values before\n",
    "    #Iterate through all smybol line\n",
    "    symbolLineIndexes = list(symbolLines.keys())\n",
    "    for symbolIndex, symbolLineNumber in enumerate(symbolLineIndexes):\n",
    "        #If the current symbol line's index is less than the index of the current line we're looking at\n",
    "        #(Symbol lines aren't part of conditionals)\n",
    "        if(symbolLineNumber < lineIndex and symbolLineNumber >= mostRecentSymbol and lineIndex not in symbolLineIndexes):\n",
    "            #Set the symbol line to be the most recent one\n",
    "            mostRecentSymbol = symbolLineNumber\n",
    "            #If there is a previous index in the list of symbol lines, then set it to be the prior symbol line\n",
    "            if((symbolIndex - 1) > 0):\n",
    "                previousSymbol = symbolLineIndexes[symbolIndex - 1]\n",
    "            #Otherwise, the first line is the previous symbol line\n",
    "            else:\n",
    "                previousSymbol = 0\n",
    "            #If there is a next index in the list of symbol lines, then set it to be the upcoming symbol line\n",
    "            if((symbolIndex + 1) < (len(symbolLines) - 1)):\n",
    "                upcomingSymbol = symbolLineIndexes[symbolIndex + 1]\n",
    "            #Otherwise there is no upcoming symbol\n",
    "            else:\n",
    "                upcomingSymbol = None\n",
    "                \n",
    "    previousSymbolType = symbolLines.get(previousSymbol)\n",
    "    mostRecentSymbolType = symbolLines.get(mostRecentSymbol)\n",
    "    upcomingSymbolType = symbolLines.get(upcomingSymbol)\n",
    "    \n",
    "    return previousSymbolType, mostRecentSymbolType, upcomingSymbolType"
   ]
  },
  {
   "cell_type": "code",
   "execution_count": 55,
   "metadata": {},
   "outputs": [],
   "source": [
    "#Check if current line is part of a conditional\n",
    "def isLineConditional(lineIndex, symbolLines):\n",
    "    #Get types of  most recent symbol, symbol before that, and next symbol coming up\n",
    "    previousSymbolType, mostRecentSymbolType, upcomingSymbolType = getSurroundingSymbols(lineIndex, symbolLines)\n",
    "\n",
    "    #IF CASE: Prior symbol irrelevant, most recent symbol a header, upcoming symbol conditional\n",
    "    #Should never be an if without a then\n",
    "    if(mostRecentSymbolType == 'header' and upcomingSymbolType == 'conditional'):\n",
    "        return 'if'\n",
    "    \n",
    "    #THEN CASE: Prior symbol conditional, most recent symbol irrelevant, upcoming symbol a header\n",
    "    elif(previousSymbolType == 'conditional' and (upcomingSymbolType == 'header' or upcomingSymbolType == None or upcomingSymbolType == 'question')):\n",
    "        return 'then'"
   ]
  },
  {
   "cell_type": "code",
   "execution_count": 56,
   "metadata": {},
   "outputs": [],
   "source": [
    "#Check if current line is part of a question\n",
    "def isLineQuestion(lineIndex, symbolLines):\n",
    "    #Get types of most recent symbol, symbol before that, and next symbol coming up\n",
    "    previousSymbolType, mostRecentSymbolType, upcomingSymbolType = getSurroundingSymbols(lineIndex, symbolLines)\n",
    "    \n",
    "    #QUESTION CASE: Most recent smybol = header, previous symbol = question, next symbol = header or none\n",
    "    if(previousSymbolType == 'question' and mostRecentSymbolType == 'header' and (upcomingSymbolType == 'header' or upcomingSymbolType == None)):\n",
    "        return True\n",
    "    else:\n",
    "        return False"
   ]
  },
  {
   "cell_type": "code",
   "execution_count": 137,
   "metadata": {},
   "outputs": [],
   "source": [
    "#TODO: handle 5-item predicate() tags\n",
    "#TODO: handle conditionals - SPECIFICALLY X -> Y; Y -> Z, how to avoid Y just being stored twice (target appears)\n",
    "#TODO: make overarching situationGraph which contains Item/Prop graphs and has graph-wide functions (move some to it)\n",
    "\n",
    "#TODO: being dealing with queries - f.e. \"Is Psychomotor-Vigilance active?\"\n",
    "\n",
    "#FORMAT OF A QUESTION:\n",
    "#QUESTION\n",
    "#[R,S]\n",
    "#property(R,active,pos)-7/3\n",
    "#predicate(S,be,A,R)-7/1\n",
    "\n",
    "#Concept: See if there is a property \"active\" (Don't create it) (make a list of all nodes that are property \"active\")\n",
    "#Then see if the predicate A has an edge to such a node?\n",
    "\n",
    "#CURRENTLY QUESTION TEST INVOLVES QUESTION AT END.  WILL NEED TO TEST QUESTION IN MIDDLE\n",
    "\n",
    "#Alternatively, create the network of the question and then try to map it onto the graph and see if that works?\n",
    "def DRSToItem():\n",
    "    import matplotlib.pyplot as plt\n",
    "    #Declare relevant variables\n",
    "    DRSGraph = None\n",
    "    DRSLines = []\n",
    "    #Read in DRS instructions from file\n",
    "    #DRSFile = open(\"DRS_read_in.txt\", \"r\")\n",
    "    DRSFile = open(\"DRS_read_in_question.txt\", \"r\")\n",
    "    for line in DRSFile:\n",
    "        #Get DRS command and remove any leading and ending whitespace\n",
    "        DRSLines.append(line.strip())\n",
    "    #Get numbers of which lines are headers ([A, B, C, ...] and conditionals (=>) )\n",
    "    symbolLines = getSymbolLines(DRSLines)\n",
    "    #Set up the predicate switcher\n",
    "    predSwitcher = predicateSwitcher()\n",
    "\n",
    "    #Iterate through the DRS instructions\n",
    "    for index, currentInstruction in enumerate(DRSLines):\n",
    "        print(currentInstruction)\n",
    "        #Find out if the current line is part of a conditional IF or not\n",
    "        conditional = isLineConditional(index, symbolLines)\n",
    "        if(conditional == 'if'):\n",
    "            print(\"IF LINE\")\n",
    "            \n",
    "        #Find out if the current line is part of a conditional THEN or not\n",
    "        if(conditional == 'then'):\n",
    "            print(\"THEN LINE\")\n",
    "            \n",
    "        #Find out if the current line is part of a question or not\n",
    "        isQuestion = isLineQuestion(index, symbolLines)\n",
    "        if(isQuestion == True):\n",
    "            print(\"QUESTION LINE\")\n",
    "\n",
    "        #take next instruction or exit\n",
    "        nextStep = input(\"Enter anything to read in next line\\n\")\n",
    "        \n",
    "        #As long as no \"exit\" given\n",
    "        if(nextStep != 'exit'):\n",
    "            #print(currentInstruction)\n",
    "            #print(conditional)\n",
    "            #Reset question switcher for each question\n",
    "            if(currentInstruction == 'QUESTION'):\n",
    "                qSwitcher = questionSwitcher()\n",
    "            #Find out if the current line is a predicate or not\n",
    "            predicate = isLinePredicate(currentInstruction)\n",
    "            #If it is a predicate\n",
    "            if(predicate == True):\n",
    "                #Get the predicate type and contents\n",
    "                predicateSplit = currentInstruction.split('(', 1)\n",
    "                predicateType = predicateSplit[0]\n",
    "                predicateContents = predicateSplit[1]\n",
    "                print(predicateType)\n",
    "                if(isQuestion == False):\n",
    "                    #Call appropriate handling function based on predicate type\n",
    "                    DRSGraph = predSwitcher.callFunction(predicateType, predicateContents)\n",
    "                    #Draw the current form of the ontology\n",
    "                    #networkx.draw(DRSGraph.graph, labels=networkx.get_node_attributes(DRSGraph.graph, 'value'))\n",
    "                    #plt.show()\n",
    "                else:\n",
    "                    qSwitcher.callFunction(predicateType, predicateContents, DRSGraph.graph)\n",
    "                    if((index + 1) in symbolLines.keys()) or ((index + 1) == len(DRSLines)):\n",
    "                        result = qSwitcher.resolveQuestion()\n",
    "                        if(result == True):\n",
    "                            print(\"Yes\")\n",
    "                        else:\n",
    "                            print(\"No\")\n",
    "                        \n",
    "                    #HANDLE QUESTIONS HERE\n",
    "        #Break out of loop with exit\n",
    "        else:\n",
    "            break\n",
    "    #At end of program, if an ontology was built at all, print it out and export it in GraphML\n",
    "    if(DRSGraph != None):\n",
    "        networkx.draw(DRSGraph.graph, labels=networkx.get_node_attributes(DRSGraph.graph, 'value'))\n",
    "        plt.show()\n",
    "        networkx.write_graphml_lxml(DRSGraph.graph, \"DRSGraph.graphml\")"
   ]
  },
  {
   "cell_type": "code",
   "execution_count": 157,
   "metadata": {
    "scrolled": false
   },
   "outputs": [
    {
     "name": "stdout",
     "output_type": "stream",
     "text": [
      "[A,B,C,D,E,F,G,H,I,J]\n"
     ]
    },
    {
     "name": "stdin",
     "output_type": "stream",
     "text": [
      "Enter anything to read in next line\n",
      " \n"
     ]
    },
    {
     "name": "stdout",
     "output_type": "stream",
     "text": [
      "object(A,task,countable,na,eq,1)-1/4\n"
     ]
    },
    {
     "name": "stdin",
     "output_type": "stream",
     "text": [
      "Enter anything to read in next line\n",
      " \n"
     ]
    },
    {
     "name": "stdout",
     "output_type": "stream",
     "text": [
      "object\n",
      "A,task,countable,na,eq,1)-1/4\n",
      "predicate(B,be,named(Psychomotor-Vigilance),A)-1/2\n"
     ]
    },
    {
     "name": "stdin",
     "output_type": "stream",
     "text": [
      "Enter anything to read in next line\n",
      " \n"
     ]
    },
    {
     "name": "stdout",
     "output_type": "stream",
     "text": [
      "predicate\n",
      "object(C,button,countable,na,eq,1)-2/4\n"
     ]
    },
    {
     "name": "stdin",
     "output_type": "stream",
     "text": [
      "Enter anything to read in next line\n",
      " \n"
     ]
    },
    {
     "name": "stdout",
     "output_type": "stream",
     "text": [
      "object\n",
      "C,button,countable,na,eq,1)-2/4\n",
      "predicate(D,be,named(Acknowledge),C)-2/2\n"
     ]
    },
    {
     "name": "stdin",
     "output_type": "stream",
     "text": [
      "Enter anything to read in next line\n",
      " \n"
     ]
    },
    {
     "name": "stdout",
     "output_type": "stream",
     "text": [
      "predicate\n",
      "object(E,box,countable,na,eq,1)-3/4\n"
     ]
    },
    {
     "name": "stdin",
     "output_type": "stream",
     "text": [
      "Enter anything to read in next line\n",
      " \n"
     ]
    },
    {
     "name": "stdout",
     "output_type": "stream",
     "text": [
      "object\n",
      "E,box,countable,na,eq,1)-3/4\n",
      "has_part(H,E)-3/\n"
     ]
    },
    {
     "name": "stdin",
     "output_type": "stream",
     "text": [
      "Enter anything to read in next line\n",
      " \n"
     ]
    },
    {
     "name": "stdout",
     "output_type": "stream",
     "text": [
      "has_part\n",
      "predicate(F,have,A,H)-3/2\n"
     ]
    },
    {
     "name": "stdin",
     "output_type": "stream",
     "text": [
      "Enter anything to read in next line\n",
      " \n"
     ]
    },
    {
     "name": "stdout",
     "output_type": "stream",
     "text": [
      "predicate\n",
      "object(G,target,countable,na,eq,1)-3/8\n"
     ]
    },
    {
     "name": "stdin",
     "output_type": "stream",
     "text": [
      "Enter anything to read in next line\n",
      " \n"
     ]
    },
    {
     "name": "stdout",
     "output_type": "stream",
     "text": [
      "object\n",
      "G,target,countable,na,eq,1)-3/8\n",
      "has_part(H,G)-3/\n"
     ]
    },
    {
     "name": "stdin",
     "output_type": "stream",
     "text": [
      "Enter anything to read in next line\n",
      " \n"
     ]
    },
    {
     "name": "stdout",
     "output_type": "stream",
     "text": [
      "has_part\n",
      "object(H,na,countable,na,eq,2)-3/\n"
     ]
    },
    {
     "name": "stdin",
     "output_type": "stream",
     "text": [
      "Enter anything to read in next line\n",
      " \n"
     ]
    },
    {
     "name": "stdout",
     "output_type": "stream",
     "text": [
      "object\n",
      "H,na,countable,na,eq,2)-3/\n",
      "object(I,letter,countable,na,eq,1)-4/4\n"
     ]
    },
    {
     "name": "stdin",
     "output_type": "stream",
     "text": [
      "Enter anything to read in next line\n",
      " \n"
     ]
    },
    {
     "name": "stdout",
     "output_type": "stream",
     "text": [
      "object\n",
      "I,letter,countable,na,eq,1)-4/4\n",
      "predicate(J,be,G,I)-4/2\n"
     ]
    },
    {
     "name": "stdin",
     "output_type": "stream",
     "text": [
      "Enter anything to read in next line\n",
      " \n"
     ]
    },
    {
     "name": "stdout",
     "output_type": "stream",
     "text": [
      "predicate\n",
      "[K]\n"
     ]
    },
    {
     "name": "stdin",
     "output_type": "stream",
     "text": [
      "Enter anything to read in next line\n",
      " \n"
     ]
    },
    {
     "name": "stdout",
     "output_type": "stream",
     "text": [
      "predicate(K,appear,G)-5/3\n",
      "IF LINE\n"
     ]
    },
    {
     "name": "stdin",
     "output_type": "stream",
     "text": [
      "Enter anything to read in next line\n",
      " \n"
     ]
    },
    {
     "name": "stdout",
     "output_type": "stream",
     "text": [
      "predicate\n",
      "modifier_pp(K,in,E)-5/4\n",
      "IF LINE\n"
     ]
    },
    {
     "name": "stdin",
     "output_type": "stream",
     "text": [
      "Enter anything to read in next line\n",
      " \n"
     ]
    },
    {
     "name": "stdout",
     "output_type": "stream",
     "text": [
      "modifier_pp\n",
      "=>\n"
     ]
    },
    {
     "name": "stdin",
     "output_type": "stream",
     "text": [
      "Enter anything to read in next line\n",
      " \n"
     ]
    },
    {
     "name": "stdout",
     "output_type": "stream",
     "text": [
      "[L,M,N]\n"
     ]
    },
    {
     "name": "stdin",
     "output_type": "stream",
     "text": [
      "Enter anything to read in next line\n",
      " \n"
     ]
    },
    {
     "name": "stdout",
     "output_type": "stream",
     "text": [
      "object(L,subject,countable,na,eq,1)-5/8\n",
      "THEN LINE\n"
     ]
    },
    {
     "name": "stdin",
     "output_type": "stream",
     "text": [
      "Enter anything to read in next line\n",
      " \n"
     ]
    },
    {
     "name": "stdout",
     "output_type": "stream",
     "text": [
      "object\n",
      "L,subject,countable,na,eq,1)-5/8\n",
      "predicate(M,click,L,C)-5/10\n",
      "THEN LINE\n"
     ]
    },
    {
     "name": "stdin",
     "output_type": "stream",
     "text": [
      "Enter anything to read in next line\n",
      " \n"
     ]
    },
    {
     "name": "stdout",
     "output_type": "stream",
     "text": [
      "predicate\n",
      "predicate(N,remember,L,I)-5/14\n",
      "THEN LINE\n"
     ]
    },
    {
     "name": "stdin",
     "output_type": "stream",
     "text": [
      "Enter anything to read in next line\n",
      " \n"
     ]
    },
    {
     "name": "stdout",
     "output_type": "stream",
     "text": [
      "predicate\n",
      "[O,P]\n"
     ]
    },
    {
     "name": "stdin",
     "output_type": "stream",
     "text": [
      "Enter anything to read in next line\n",
      " \n"
     ]
    },
    {
     "name": "stdout",
     "output_type": "stream",
     "text": [
      "property(O,active,pos)-6/4\n",
      "IF LINE\n"
     ]
    },
    {
     "name": "stdin",
     "output_type": "stream",
     "text": [
      "Enter anything to read in next line\n",
      " \n"
     ]
    },
    {
     "name": "stdout",
     "output_type": "stream",
     "text": [
      "property\n",
      "predicate(P,be,A,O)-6/3\n",
      "IF LINE\n"
     ]
    },
    {
     "name": "stdin",
     "output_type": "stream",
     "text": [
      "Enter anything to read in next line\n",
      " \n"
     ]
    },
    {
     "name": "stdout",
     "output_type": "stream",
     "text": [
      "predicate\n",
      "=>\n"
     ]
    },
    {
     "name": "stdin",
     "output_type": "stream",
     "text": [
      "Enter anything to read in next line\n",
      " \n"
     ]
    },
    {
     "name": "stdout",
     "output_type": "stream",
     "text": [
      "[Q]\n"
     ]
    },
    {
     "name": "stdin",
     "output_type": "stream",
     "text": [
      "Enter anything to read in next line\n",
      " \n"
     ]
    },
    {
     "name": "stdout",
     "output_type": "stream",
     "text": [
      "predicate(Q,appear,G)-6/7\n",
      "THEN LINE\n"
     ]
    },
    {
     "name": "stdin",
     "output_type": "stream",
     "text": [
      "Enter anything to read in next line\n",
      " \n"
     ]
    },
    {
     "name": "stdout",
     "output_type": "stream",
     "text": [
      "predicate\n",
      "modifier_pp(Q,in,E)-6/8\n",
      "THEN LINE\n"
     ]
    },
    {
     "name": "stdin",
     "output_type": "stream",
     "text": [
      "Enter anything to read in next line\n",
      " \n"
     ]
    },
    {
     "name": "stdout",
     "output_type": "stream",
     "text": [
      "modifier_pp\n",
      "QUESTION\n"
     ]
    },
    {
     "name": "stdin",
     "output_type": "stream",
     "text": [
      "Enter anything to read in next line\n",
      " \n"
     ]
    },
    {
     "name": "stdout",
     "output_type": "stream",
     "text": [
      "[R,S]\n"
     ]
    },
    {
     "name": "stdin",
     "output_type": "stream",
     "text": [
      "Enter anything to read in next line\n",
      " \n"
     ]
    },
    {
     "name": "stdout",
     "output_type": "stream",
     "text": [
      "property(R,active,pos)-7/3\n",
      "QUESTION LINE\n"
     ]
    },
    {
     "name": "stdin",
     "output_type": "stream",
     "text": [
      "Enter anything to read in next line\n",
      " \n"
     ]
    },
    {
     "name": "stdout",
     "output_type": "stream",
     "text": [
      "property\n",
      "predicate(S,be,named(Psychomotor-Vigilance),R)-7/1\n",
      "QUESTION LINE\n"
     ]
    },
    {
     "name": "stdin",
     "output_type": "stream",
     "text": [
      "Enter anything to read in next line\n",
      " \n"
     ]
    },
    {
     "name": "stdout",
     "output_type": "stream",
     "text": [
      "predicate\n",
      "Yes\n"
     ]
    },
    {
     "data": {
      "image/png": "[encoded data removed]",
      "text/plain": [
       "<Figure size 432x288 with 1 Axes>"
      ]
     },
     "metadata": {},
     "output_type": "display_data"
    }
   ],
   "source": [
    "DRSToItem()"
   ]
  },
  {
   "cell_type": "code",
   "execution_count": null,
   "metadata": {},
   "outputs": [],
   "source": [
    "\n"
   ]
  }
 ],
 "metadata": {
  "kernelspec": {
   "display_name": "Python 3",
   "language": "python",
   "name": "python3"
  },
  "language_info": {
   "codemirror_mode": {
    "name": "ipython",
    "version": 3
   },
   "file_extension": ".py",
   "mimetype": "text/x-python",
   "name": "python",
   "nbconvert_exporter": "python",
   "pygments_lexer": "ipython3",
   "version": "3.6.8"
  }
 },
 "nbformat": 4,
 "nbformat_minor": 2
}
