{
 "cells": [
  {
   "cell_type": "code",
   "execution_count": 20,
   "metadata": {},
   "outputs": [],
   "source": [
    "import networkx\n",
    "\n",
    "#Create Graph\n",
    "def generateGraph():\n",
    "    testGraph = networkx.MultiDiGraph()\n",
    "    testGraph.add_node('Item', value = '')\n",
    "    testGraph.add_node('ItemName', value = '')\n",
    "    testGraph.add_node('ItemAffordance', value = '')\n",
    "    testGraph.add_node('ItemDescription', value = '')\n",
    "    #testGraph.add_node('UAVAttributeAlarm', value = 'ok|warning|alarm')\n",
    "    #testGraph.add_node('UAVAttributeStable', value = 'true|false|unknown')\n",
    "    #testGraph.add_node('UAVAttributeChange', value = 'increase|decrease|stop')\n",
    "    #testGraph.add_node('UAVAttributeAction', value = 'move|climb|descend|speed_up|slow_down')\n",
    "    testGraph.add_edge('Item', 'ItemName', value = 'ItemHasName')\n",
    "    testGraph.add_edge('Item', 'ItemAffordance', value = 'ItemHasAffordance')\n",
    "    testGraph.add_edge('Item', 'ItemDescription', value = 'ItemHasDescription')\n",
    "    #testGraph.add_edge('UAV', 'UAVAttributeAlarm', value = 'UAVhasAlarm')\n",
    "    #testGraph.add_edge('UAV', 'UAVAttributeStable', value = 'UAVhasStable')\n",
    "    #testGraph.add_edge('UAV', 'UAVAttributeChange', value = 'UAVhasChange')\n",
    "    #testGraph.add_edge('UAV', 'UAVAttributeAction', value = 'UAVhasAction')\n",
    "\n",
    "    #testGraph.add_node('Restriction', value='Restriction')\n",
    "    #testGraph.add_node('RestrictionUpper', value='<number>|none|unknown')\n",
    "    #testGraph.add_node('RestrictionLower', value='<number>|none|unknown')\n",
    "    #testGraph.add_node('RestrictionType', value='altitude|speed|photo')\n",
    "    #testGraph.add_edge('Restriction', 'RestrictionUpper', value='RestrictionHasUpper')\n",
    "    #testGraph.add_edge('Restriction', 'RestrictionLower', value='RestrictionHasLower')\n",
    "    #testGraph.add_edge('Restriction', 'RestrictionType', value='RestrictionHasType')\n",
    "\n",
    "    #testGraph.add_edge('UAV', 'Restriction', value='hasRestriction')\n",
    "\n",
    "    #Draw Graph\n",
    "    #networkx.draw(testGraph, with_labels=True)\n",
    "    #plt.show()\n",
    "    \n",
    "    return testGraph"
   ]
  },
  {
   "cell_type": "code",
   "execution_count": 69,
   "metadata": {},
   "outputs": [],
   "source": [
    "class ItemGraph(object):\n",
    "    def __init__(self):\n",
    "        self.graph = generateGraph()\n",
    "        \n",
    "    def __append(self, target, newValue):\n",
    "        currentValue = self.graph.nodes(data=True)[target]['value']\n",
    "        if(currentValue == ''):\n",
    "            updatedValue = newValue\n",
    "        else:\n",
    "            updatedValue = currentValue + '|' + newValue\n",
    "        self.graph.nodes(data=True)[target]['value'] = updatedValue\n",
    "    \n",
    "    def __replace(self, target, newValue):\n",
    "        self.graph.nodes(data=True)[target]['value'] = newValue\n",
    "\n",
    "    \n",
    "    def appendItemValue(self, newValue):\n",
    "        #currentValue = self.graph.nodes(data=True)['Item']['value']\n",
    "        #if(currentValue == ''):\n",
    "        #    updatedValue = newValue\n",
    "        #else:\n",
    "        #    updatedValue = currentValue + '|' + newValue\n",
    "        #self.graph.nodes(data=True)['Item']['value'] = updatedValue\n",
    "        self.__append('Item', newValue)\n",
    "        \n",
    "    def replaceItemValue(self, newValue):\n",
    "        #self.graph.nodes(data=True)['Item']['value'] = newValue\n",
    "        self.__replace('Item', newValue)\n",
    "                \n",
    "    def appendItemName(self, newName):\n",
    "        self.__append('ItemName', newName)\n",
    "        \n",
    "    def replaceItemName(self, newName):\n",
    "        self.__replace('ItemName', newName)\n",
    "        \n",
    "    def appendItemAffordance(self, newAffordance):\n",
    "        self.__append('ItemAffordance', newAffordance)\n",
    "    \n",
    "    def replaceItemAffordance(self, newAffordance):\n",
    "        self.__replace('ItemAffordance', newAffordance)\n",
    "    \n",
    "    def appendItemDescription(self, newDescription):\n",
    "        self.__append('ItemDescription', newDescription)\n",
    "    \n",
    "    def replaceItemDescription(self, newDescription):\n",
    "        self.__replace('ItemDescription', newDescription)"
   ]
  },
  {
   "cell_type": "code",
   "execution_count": 70,
   "metadata": {},
   "outputs": [
    {
     "data": {
      "image/png": "[encoded data removed]",
      "text/plain": [
       "<Figure size 432x288 with 1 Axes>"
      ]
     },
     "metadata": {},
     "output_type": "display_data"
    }
   ],
   "source": [
    "import networkx\n",
    "import matplotlib.pyplot as plt\n",
    "from pprint import pprint\n",
    "\n",
    "situationGraph = networkx.MultiDiGraph()\n",
    "#SHOULD FIND SOME WAY TO MAKE IT SO THAT ITEMS CAN CONTAIN ITEMS\n",
    "\n",
    "\n",
    "currGraph = ItemGraph()\n",
    "currNodes = currGraph.graph.nodes.data()\n",
    "#print(currNodes)\n",
    "#networkx.draw(currGraph.graph, with_labels=True)\n",
    "#print(currGraph.graph.nodes(data=True)['Item']['value'])\n",
    "##currGraph.appendItemValue('E')\n",
    "#print(currGraph.graph.nodes(data=True)['Item']['value'])\n",
    "#currGraph.appendItemValue('3')\n",
    "#print(currGraph.graph.nodes(data=True)['Item']['value'])\n",
    "#currGraph.replaceItemValue('A') \n",
    "#print(currGraph.graph.nodes(data=True)['Item']['value'])\n",
    "currGraph.appendItemValue('C')\n",
    "currGraph.appendItemDescription('button')\n",
    "currGraph.appendItemAffordance('click')\n",
    "currGraph.appendItemName('Acknowledge')\n",
    "networkx.draw(currGraph.graph, labels=networkx.get_node_attributes(currGraph.graph, 'value'))\n",
    "plt.show()\n",
    "\n"
   ]
  },
  {
   "cell_type": "code",
   "execution_count": null,
   "metadata": {},
   "outputs": [],
   "source": [
    "#NEED TO WRITE DRS PARSER - get RefID & description from object() tags\n",
    "#Get affordance from predicate() tags (except for those with names?)\n",
    "#Get name from named() tags\n",
    "#Also need to figure out how to connect multiple graphs into each other...\n",
    "#and how to handle interactions between (target appears in box, etc.)"
   ]
  }
 ],
 "metadata": {
  "kernelspec": {
   "display_name": "Python 3",
   "language": "python",
   "name": "python3"
  },
  "language_info": {
   "codemirror_mode": {
    "name": "ipython",
    "version": 3
   },
   "file_extension": ".py",
   "mimetype": "text/x-python",
   "name": "python",
   "nbconvert_exporter": "python",
   "pygments_lexer": "ipython3",
   "version": "3.6.8"
  }
 },
 "nbformat": 4,
 "nbformat_minor": 2
}
