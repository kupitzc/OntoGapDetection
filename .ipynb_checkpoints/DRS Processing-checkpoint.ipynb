{
 "cells": [
  {
   "cell_type": "code",
   "execution_count": 2,
   "metadata": {},
   "outputs": [],
   "source": [
    "import networkx\n",
    "\n",
    "#Create Graph\n",
    "def generateGraph():\n",
    "    testGraph = networkx.MultiDiGraph()\n",
    "    testGraph.add_node('Item', value = '')\n",
    "    testGraph.add_node('ItemName', value = '')\n",
    "    testGraph.add_node('ItemAffordance', value = '')\n",
    "    testGraph.add_node('ItemDescription', value = '')\n",
    "    #testGraph.add_node('UAVAttributeAlarm', value = 'ok|warning|alarm')\n",
    "    #testGraph.add_node('UAVAttributeStable', value = 'true|false|unknown')\n",
    "    #testGraph.add_node('UAVAttributeChange', value = 'increase|decrease|stop')\n",
    "    #testGraph.add_node('UAVAttributeAction', value = 'move|climb|descend|speed_up|slow_down')\n",
    "    testGraph.add_edge('Item', 'ItemName', value = 'ItemHasName')\n",
    "    testGraph.add_edge('Item', 'ItemAffordance', value = 'ItemHasAffordance')\n",
    "    testGraph.add_edge('Item', 'ItemDescription', value = 'ItemHasDescription')\n",
    "    #testGraph.add_edge('UAV', 'UAVAttributeAlarm', value = 'UAVhasAlarm')\n",
    "    #testGraph.add_edge('UAV', 'UAVAttributeStable', value = 'UAVhasStable')\n",
    "    #testGraph.add_edge('UAV', 'UAVAttributeChange', value = 'UAVhasChange')\n",
    "    #testGraph.add_edge('UAV', 'UAVAttributeAction', value = 'UAVhasAction')\n",
    "\n",
    "    #testGraph.add_node('Restriction', value='Restriction')\n",
    "    #testGraph.add_node('RestrictionUpper', value='<number>|none|unknown')\n",
    "    #testGraph.add_node('RestrictionLower', value='<number>|none|unknown')\n",
    "    #testGraph.add_node('RestrictionType', value='altitude|speed|photo')\n",
    "    #testGraph.add_edge('Restriction', 'RestrictionUpper', value='RestrictionHasUpper')\n",
    "    #testGraph.add_edge('Restriction', 'RestrictionLower', value='RestrictionHasLower')\n",
    "    #testGraph.add_edge('Restriction', 'RestrictionType', value='RestrictionHasType')\n",
    "\n",
    "    #testGraph.add_edge('UAV', 'Restriction', value='hasRestriction')\n",
    "\n",
    "    #Draw Graph\n",
    "    #networkx.draw(testGraph, with_labels=True)\n",
    "    #plt.show()\n",
    "    \n",
    "    return testGraph"
   ]
  },
  {
   "cell_type": "code",
   "execution_count": 3,
   "metadata": {},
   "outputs": [],
   "source": [
    "class ItemGraph(object):\n",
    "    #Constructor\n",
    "    def __init__(self):\n",
    "        self.graph = generateGraph()\n",
    "        \n",
    "    #Generic append method based on whatever target is passed in    \n",
    "    def __append(self, target, newValue):\n",
    "        currentValue = self.graph.nodes(data=True)[target]['value']\n",
    "        if(currentValue == ''):\n",
    "            updatedValue = newValue\n",
    "        else:\n",
    "            updatedValue = currentValue + '|' + newValue\n",
    "        self.graph.nodes(data=True)[target]['value'] = updatedValue\n",
    "    \n",
    "    #Generic replace method based on whatever target is passed in\n",
    "    def __replace(self, target, newValue):\n",
    "        self.graph.nodes(data=True)[target]['value'] = newValue\n",
    "\n",
    "    #Append/replace methods for each node value in Item Graph\n",
    "    def appendItemValue(self, newValue):\n",
    "        #currentValue = self.graph.nodes(data=True)['Item']['value']\n",
    "        #if(currentValue == ''):\n",
    "        #    updatedValue = newValue\n",
    "        #else:\n",
    "        #    updatedValue = currentValue + '|' + newValue\n",
    "        #self.graph.nodes(data=True)['Item']['value'] = updatedValue\n",
    "        self.__append('Item', newValue)\n",
    "        \n",
    "    def replaceItemValue(self, newValue):\n",
    "        #self.graph.nodes(data=True)['Item']['value'] = newValue\n",
    "        self.__replace('Item', newValue)\n",
    "                \n",
    "    def appendItemName(self, newName):\n",
    "        self.__append('ItemName', newName)\n",
    "        \n",
    "    def replaceItemName(self, newName):\n",
    "        self.__replace('ItemName', newName)\n",
    "        \n",
    "    def appendItemAffordance(self, newAffordance):\n",
    "        self.__append('ItemAffordance', newAffordance)\n",
    "    \n",
    "    def replaceItemAffordance(self, newAffordance):\n",
    "        self.__replace('ItemAffordance', newAffordance)\n",
    "    \n",
    "    def appendItemDescription(self, newDescription):\n",
    "        self.__append('ItemDescription', newDescription)\n",
    "    \n",
    "    def replaceItemDescription(self, newDescription):\n",
    "        self.__replace('ItemDescription', newDescription)"
   ]
  },
  {
   "cell_type": "code",
   "execution_count": 4,
   "metadata": {},
   "outputs": [
    {
     "name": "stderr",
     "output_type": "stream",
     "text": [
      "C:\\Users\\Daniel\\Anaconda3\\lib\\site-packages\\networkx\\drawing\\nx_pylab.py:579: MatplotlibDeprecationWarning: \n",
      "The iterable function was deprecated in Matplotlib 3.1 and will be removed in 3.3. Use np.iterable instead.\n",
      "  if not cb.iterable(width):\n",
      "C:\\Users\\Daniel\\Anaconda3\\lib\\site-packages\\networkx\\drawing\\nx_pylab.py:676: MatplotlibDeprecationWarning: \n",
      "The iterable function was deprecated in Matplotlib 3.1 and will be removed in 3.3. Use np.iterable instead.\n",
      "  if cb.iterable(node_size):  # many node sizes\n"
     ]
    },
    {
     "data": {
      "text/plain": [
       "<Figure size 640x480 with 1 Axes>"
      ]
     },
     "metadata": {},
     "output_type": "display_data"
    }
   ],
   "source": [
    "import networkx\n",
    "import matplotlib.pyplot as plt\n",
    "from pprint import pprint\n",
    "\n",
    "situationGraph = networkx.MultiDiGraph()\n",
    "#SHOULD FIND SOME WAY TO MAKE IT SO THAT ITEMS CAN CONTAIN ITEMS\n",
    "\n",
    "#Create item graph\n",
    "currGraph = ItemGraph()\n",
    "#Get nodes from item graph\n",
    "currNodes = currGraph.graph.nodes.data()\n",
    "#print(currNodes)\n",
    "#networkx.draw(currGraph.graph, with_labels=True)\n",
    "#print(currGraph.graph.nodes(data=True)['Item']['value'])\n",
    "##currGraph.appendItemValue('E')\n",
    "#print(currGraph.graph.nodes(data=True)['Item']['value'])\n",
    "#currGraph.appendItemValue('3')\n",
    "#print(currGraph.graph.nodes(data=True)['Item']['value'])\n",
    "#currGraph.replaceItemValue('A') \n",
    "#print(currGraph.graph.nodes(data=True)['Item']['value'])\n",
    "\n",
    "#Append testing\n",
    "currGraph.appendItemValue('C')\n",
    "currGraph.appendItemDescription('button')\n",
    "currGraph.appendItemAffordance('click')\n",
    "currGraph.appendItemName('Acknowledge')\n",
    "networkx.draw(currGraph.graph, labels=networkx.get_node_attributes(currGraph.graph, 'value'))\n",
    "plt.show()\n",
    "\n"
   ]
  },
  {
   "cell_type": "code",
   "execution_count": 13,
   "metadata": {},
   "outputs": [],
   "source": [
    "class predicateSwitcher(object):\n",
    "    \n",
    "    #Constructor\n",
    "    def __init__(self, DRSGraph):\n",
    "        self.graph = DRSGraph\n",
    "        \n",
    "    #Method to call the appropriate function based on the argument passed in\n",
    "    def callFunction(self, predicateType, predicateContents):\n",
    "        #Get the name of the method\n",
    "        methodName = 'predicate_' + str(predicateType)\n",
    "        #Get the method itself\n",
    "        method = getattr(self, methodName, lambda: \"Unknown predicate\")\n",
    "        #Call the method and return its output\n",
    "        return method(predicateContents)\n",
    "        \n",
    "    def predicate_object(self, predicateContents):\n",
    "        print(predicateContents)\n",
    "        #Break up elements of object line into variables\n",
    "        predicateComponents = predicateContents.split(',')\n",
    "        objReferenceVariable = predicateComponents[0]\n",
    "        objName = predicateComponents[1]\n",
    "        objClass = predicateComponents[2]\n",
    "        objUnit = predicateComponents[3]\n",
    "        objOperator = predicateComponents[4]\n",
    "        objCount = predicateComponents[5].split(')')[0]\n",
    "        \n",
    "        #Apply appropriate variables to ItemGraph\n",
    "        #objectGraph = ItemGraph()\n",
    "        #objectGraph.appendItemValue(objReferenceVariable)\n",
    "        #objectGraph.appendItemDescription(objName)\n",
    "        #return Graph\n",
    "        #return objectGraph\n",
    "        \n",
    "        self.graph.appendItemValue(objReferenceVariable)\n",
    "        self.graph.appendItemDescription(objName)\n",
    "        return self.graph\n",
    "    \n",
    "    def predicate_predicate(self, predicateContents):\n",
    "        #Intransitive verbs: (predName, verb, subjectRef) \n",
    "        #- The SubjectRef Verbed (the man laughed, the target appears)\n",
    "        #Transitive verbs: (predName, verb, subjectRef, dirObjRef)\n",
    "        #- The Subjectref Verbed the dirObjRef (the task A has a group of objects H, the subject L remembers the letter I)\n",
    "        #Ditransitive verbs: (predName, verb, subjRef, dirObjRef, indirObjRef)\n",
    "        #- The SubjectRef verbed the DirObjRef to the indirObjRef (The professor (S) gave the paper (D) to the student (I))\n",
    "        print(predicateContents)\n",
    "        predicateComponents = predicateContents.split(',')\n",
    "        numberOfComponents = len(predicateComponents)\n",
    "        #Always have first three components, so only special cases are transitive/ditransitive\n",
    "        predReferenceVariable = predicateComponents[0]\n",
    "        predVerb = predicateComponents[1]\n",
    "        predSubjRef = predicateComponents[2]\n",
    "        currNodes = currGraph.graph.nodes.data()\n",
    "        print(currNodes)\n",
    "        if(numberOfComponents == 4):\n",
    "            #Transitive\n",
    "            predDirObjRef = predicateComponents[3]\n",
    "        elif(numberOfComponents == 5):\n",
    "            #Ditransitive\n",
    "            predIndirObjRef = predicateComponents[4]\n",
    "        else:\n",
    "            #invalid\n",
    "            raise ValueError('Too many components ?')"
   ]
  },
  {
   "cell_type": "code",
   "execution_count": 20,
   "metadata": {},
   "outputs": [],
   "source": [
    "#NEED TO WRITE DRS PARSER - get RefID & description from object() tags\n",
    "#Get affordance from predicate() tags (except for those with names?)\n",
    "#Get name from named() tags\n",
    "#Also need to figure out how to connect multiple graphs into each other...\n",
    "#and how to handle interactions between (target appears in box, etc.)\n",
    "def DRSToItem():\n",
    "    #Get DRS command and remove any leading and ending whitespace\n",
    "    inputDRS = ''\n",
    "    DRSGraph = ItemGraph()\n",
    "    switcher = predicateSwitcher(DRSGraph)\n",
    "    while(inputDRS != 'exit'):\n",
    "        inputDRS = input(\"Please input DRS line\\n\").strip()\n",
    "        #Find out what the predicate type is (object, property, predicate, etc.)\n",
    "        predicateSplit = inputDRS.split('(', 1)\n",
    "        predicateType = predicateSplit[0]\n",
    "        predicateContents = predicateSplit[1]\n",
    "        print(predicateType)\n",
    "        #Should be refactored into something better eventually?\n",
    "        #Call appropriate handling function based on predicate type\n",
    "        DRSGraph = switcher.callFunction(predicateType, predicateContents)\n",
    "        networkx.draw(DRSGraph.graph, labels=networkx.get_node_attributes(DRSGraph.graph, 'value'))\n",
    "        plt.show()\n"
   ]
  },
  {
   "cell_type": "code",
   "execution_count": null,
   "metadata": {},
   "outputs": [
    {
     "name": "stdout",
     "output_type": "stream",
     "text": [
      "Please input DRS line\n",
      "object(A,task,countable,na,eq,1)-1/4\t\n",
      "object\n",
      "A,task,countable,na,eq,1)-1/4\n"
     ]
    },
    {
     "data": {
      "image/png": "[encoded data removed]",
      "text/plain": [
       "<Figure size 432x288 with 1 Axes>"
      ]
     },
     "metadata": {},
     "output_type": "display_data"
    },
    {
     "name": "stdout",
     "output_type": "stream",
     "text": [
      "Please input DRS line\n",
      "object(A,task,countable,na,eq,1)-1/4\t\n",
      "object\n",
      "A,task,countable,na,eq,1)-1/4\n"
     ]
    },
    {
     "data": {
      "image/png": "[encoded data removed]",
      "text/plain": [
       "<Figure size 432x288 with 1 Axes>"
      ]
     },
     "metadata": {},
     "output_type": "display_data"
    }
   ],
   "source": [
    "DRSToItem()"
   ]
  },
  {
   "cell_type": "code",
   "execution_count": null,
   "metadata": {},
   "outputs": [],
   "source": []
  }
 ],
 "metadata": {
  "kernelspec": {
   "display_name": "Python 3",
   "language": "python",
   "name": "python3"
  },
  "language_info": {
   "codemirror_mode": {
    "name": "ipython",
    "version": 3
   },
   "file_extension": ".py",
   "mimetype": "text/x-python",
   "name": "python",
   "nbconvert_exporter": "python",
   "pygments_lexer": "ipython3",
   "version": "3.6.8"
  }
 },
 "nbformat": 4,
 "nbformat_minor": 2
}
